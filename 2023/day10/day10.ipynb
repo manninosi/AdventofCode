{
 "cells": [
  {
   "cell_type": "code",
   "execution_count": 2,
   "metadata": {},
   "outputs": [],
   "source": [
    "import numpy as np"
   ]
  },
  {
   "cell_type": "code",
   "execution_count": 21,
   "metadata": {},
   "outputs": [
    {
     "name": "stderr",
     "output_type": "stream",
     "text": [
      "C:\\Users\\mmann\\AppData\\Local\\Temp\\ipykernel_7800\\3187383214.py:63: FutureWarning: Using a non-tuple sequence for multidimensional indexing is deprecated; use `arr[tuple(seq)]` instead of `arr[seq]`. In the future this will be interpreted as an array index, `arr[np.array(seq)]`, which will result either in an error or a different result.\n",
      "  pipe_type = maze_2d_arr[cur_idx]\n"
     ]
    },
    {
     "name": "stdout",
     "output_type": "stream",
     "text": [
      "6942\n"
     ]
    },
    {
     "ename": "",
     "evalue": "",
     "output_type": "error",
     "traceback": [
      "\u001b[1;31mThe Kernel crashed while executing code in the the current cell or a previous cell. Please review the code in the cell(s) to identify a possible cause of the failure. Click <a href='https://aka.ms/vscodeJupyterKernelCrash'>here</a> for more info. View Jupyter <a href='command:jupyter.viewOutput'>log</a> for further details."
     ]
    }
   ],
   "source": [
    "fn = 'day10.txt'\n",
    "# data = open(fn).read().strip()\n",
    "\n",
    "pipe_dict = {'|': [[1,0], [-1,0]],\n",
    "            '-': [[0,1], [0,-1]], \n",
    "            #1 (N/S), 2 (E/W)\n",
    "            'F': [[0,1], [1,0]], \n",
    "            '7': [[0,-1], [1,0]], \n",
    "            'L': [[0,1], [-1,0]], \n",
    "            'J': [[0,-1], [-1,0]], \n",
    "             }\n",
    "\n",
    "def get_nxt_idx(p_idx, c_idx, pipe_type, pipe_dict = pipe_dict):\n",
    "    idx_options = pipe_dict[pipe_type[0]] \n",
    "    # idx_diff = [x-y for x,y in (cur_idx, pre_idx)]\n",
    "    idx_diff = np.subtract(c_idx,p_idx)\n",
    "    if idx_diff[1] == 0: #No change only move N/S\n",
    "        if pipe_type == \"|\":\n",
    "            if idx_diff[0] < 0: #Prev pipe to N \n",
    "                sel = 1\n",
    "            else:\n",
    "                sel = 0\n",
    "        else:\n",
    "            sel = 0\n",
    "    else: #No change in E/W\n",
    "        if pipe_type == \"-\":\n",
    "            if idx_diff[1] < 0: #Prev pipe to E \n",
    "                sel = 1 \n",
    "            else:\n",
    "                sel = 0 \n",
    "        else:\n",
    "            sel = 1\n",
    "\n",
    "    return(idx_options[sel])\n",
    "\n",
    "        \n",
    "\n",
    "      \n",
    "       \n",
    "\n",
    "    \n",
    "with open(fn) as f:\n",
    "    maze_raw = f.readlines()\n",
    "\n",
    "maze_raw = [list(row.strip('\\n')) for row in maze_raw]\n",
    "\n",
    "maze_2d_arr = np.array(maze_raw, ndmin=2)\n",
    "start = list(np.where(maze_2d_arr == 'S'))\n",
    "prev_idx = list(np.array(start))\n",
    "cur_idx =  list(np.array(prev_idx))\n",
    "#Going down south first \n",
    "#THIS CHANGES DEPENDING ON START\n",
    "#FOR REAL INPUT\n",
    "cur_idx[0] += 0\n",
    "cur_idx[1] += -1 \n",
    "#For example\n",
    "# cur_idx[0] += 1 \n",
    "# cur_idx[1] += 0 \n",
    "# start= tuple(start)\n",
    "chk = 1 \n",
    "\n",
    "while (cur_idx != start):#  and chk <= 1e2):\n",
    "    pipe_type = maze_2d_arr[cur_idx]\n",
    "    idx_chg = get_nxt_idx(prev_idx,cur_idx,pipe_type)\n",
    "    prev_idx = list(np.array(cur_idx))\n",
    "    cur_idx[0] += idx_chg[0]\n",
    "    cur_idx[1] += idx_chg[1]\n",
    "    chk +=1 \n",
    "print(chk//2)"
   ]
  },
  {
   "cell_type": "code",
   "execution_count": null,
   "metadata": {},
   "outputs": [],
   "source": [
    "x = [0,1]\n",
    "y = list(x)\n",
    "print(x,y)\n",
    "x[0] = 5\n",
    "print(x,y)\n"
   ]
  },
  {
   "cell_type": "code",
   "execution_count": null,
   "metadata": {},
   "outputs": [],
   "source": [
    "17//2"
   ]
  },
  {
   "cell_type": "code",
   "execution_count": null,
   "metadata": {},
   "outputs": [],
   "source": [
    "start = list(np.where(maze_2d_arr == 'S'))\n",
    "prev_idx = start[:]\n",
    "cur_idx =  prev_idx[:]\n",
    "\n",
    "print(prev_idx)\n",
    "print(cur_idx)"
   ]
  },
  {
   "cell_type": "code",
   "execution_count": null,
   "metadata": {},
   "outputs": [],
   "source": []
  }
 ],
 "metadata": {
  "kernelspec": {
   "display_name": "Python 3",
   "language": "python",
   "name": "python3"
  },
  "language_info": {
   "codemirror_mode": {
    "name": "ipython",
    "version": 3
   },
   "file_extension": ".py",
   "mimetype": "text/x-python",
   "name": "python",
   "nbconvert_exporter": "python",
   "pygments_lexer": "ipython3",
   "version": "3.8.2"
  }
 },
 "nbformat": 4,
 "nbformat_minor": 2
}
