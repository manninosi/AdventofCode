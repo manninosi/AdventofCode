{
 "cells": [
  {
   "cell_type": "code",
   "execution_count": 1,
   "metadata": {},
   "outputs": [],
   "source": [
    "import numpy as np"
   ]
  },
  {
   "cell_type": "code",
   "execution_count": 39,
   "metadata": {},
   "outputs": [
    {
     "name": "stdout",
     "output_type": "stream",
     "text": [
      "56717999\n",
      "334113513502430\n",
      "<class 'numpy.ndarray'>\n",
      "<class 'int'>\n",
      "804232852641000\n",
      "<class 'numpy.int64'>\n",
      "43364472\n"
     ]
    }
   ],
   "source": [
    "fn = 'day6.txt'\n",
    "\n",
    "D = open(fn).read().strip()\n",
    "lines = D.split('\\n')\n",
    "\n",
    "times = int(''.join(lines[0].split()[1:]))\n",
    "dst =  int(''.join(lines[1].split()[1:]))\n",
    "# dst = np.asarray(dst)\n",
    "print(times)\n",
    "print(dst)\n",
    "\n",
    "def find_dist(time):\n",
    "    time_choices = np.arange(time, dtype=np.int64)\n",
    "    dist = (-time_choices**2 + time * time_choices ) \n",
    "    return  dist\n",
    "ans = 1\n",
    "#part 1\n",
    "# for i, time in enumerate(times):\n",
    "#     all_dist = find_dist(time) \n",
    "#     num_great = np.sum(all_dist > dst[i])\n",
    "#     print(num_great)\n",
    "#     ans *= num_great\n",
    "\n",
    "all_dist = find_dist(times) \n",
    "print(type(all_dist))\n",
    "print(type(dst))\n",
    "print(max(all_dist))\n",
    "num_great = np.sum(all_dist > dst, dtype=np.int64)\n",
    "print(type(num_great))\n",
    "print(num_great)\n"
   ]
  },
  {
   "cell_type": "code",
   "execution_count": 12,
   "metadata": {},
   "outputs": [
    {
     "data": {
      "text/plain": [
       "array([  0,  -1,  -4,  -9, -16, -25, -36], dtype=int32)"
      ]
     },
     "execution_count": 12,
     "metadata": {},
     "output_type": "execute_result"
    }
   ],
   "source": [
    "x = np.arange(7)\n",
    "-x**2"
   ]
  },
  {
   "cell_type": "code",
   "execution_count": null,
   "metadata": {},
   "outputs": [],
   "source": []
  }
 ],
 "metadata": {
  "kernelspec": {
   "display_name": "Python 3",
   "language": "python",
   "name": "python3"
  },
  "language_info": {
   "codemirror_mode": {
    "name": "ipython",
    "version": 3
   },
   "file_extension": ".py",
   "mimetype": "text/x-python",
   "name": "python",
   "nbconvert_exporter": "python",
   "pygments_lexer": "ipython3",
   "version": "3.8.2"
  }
 },
 "nbformat": 4,
 "nbformat_minor": 2
}
