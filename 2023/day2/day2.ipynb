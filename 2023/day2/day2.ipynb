{
 "cells": [
  {
   "cell_type": "code",
   "execution_count": 8,
   "metadata": {},
   "outputs": [],
   "source": [
    "import numpy as np\n",
    "import sys"
   ]
  },
  {
   "cell_type": "code",
   "execution_count": 36,
   "metadata": {},
   "outputs": [
    {
     "name": "stdout",
     "output_type": "stream",
     "text": [
      "2545\n"
     ]
    }
   ],
   "source": [
    "\n",
    "# data = np.loadtxt(\"day2.txt\", dtype=str)\n",
    "\n",
    "#Dictionary Checks\n",
    "real_game = {\n",
    "   'red':12,\n",
    "   'green': 13,\n",
    "   'blue': 14, \n",
    "}\n",
    "\n",
    "fp = \"day2.txt\"\n",
    "D = open(fp).read().strip()\n",
    "\n",
    "chk = 0\n",
    "ans = 0\n",
    "for line in D.split('\\n'):\n",
    "    game_id = line.split(':')[0].split(' ')[-1]\n",
    "    all_pulls = line.split(':')[1]\n",
    "    for pull in all_pulls.split(';'):\n",
    "        cubes = pull.split(',')\n",
    "        for cube in cubes:\n",
    "            cube_val = cube.split(' ')[1]\n",
    "            cube_color = cube.split(' ')[2]\n",
    "            if int(cube_val) > real_game[cube_color]:\n",
    "                bad_game = 1\n",
    "    if bad_game != 1:\n",
    "        ans += int(game_id)\n",
    "    else:\n",
    "        bad_game = 0\n",
    "\n",
    "print(ans)\n",
    "    \n",
    "    # chk += 1 \n",
    "    # if chk >= 1:\n",
    "\n",
    "    #     break"
   ]
  },
  {
   "cell_type": "code",
   "execution_count": 38,
   "metadata": {},
   "outputs": [
    {
     "name": "stdout",
     "output_type": "stream",
     "text": [
      "78111\n"
     ]
    }
   ],
   "source": [
    "#PART 2\n",
    "\n",
    "# data = np.loadtxt(\"day2.txt\", dtype=str)\n",
    "\n",
    "#Dictionary Checks\n",
    "real_game = {\n",
    "   'red':12,\n",
    "   'green': 13,\n",
    "   'blue': 14, \n",
    "}\n",
    "\n",
    "fp = \"day2.txt\"\n",
    "D = open(fp).read().strip()\n",
    "\n",
    "chk = 0\n",
    "ans = 0\n",
    "for line in D.split('\\n'):\n",
    "    min_real_game = {\n",
    "       'red':0,\n",
    "       'green': 0,\n",
    "       'blue': 0, \n",
    "    }\n",
    "    game_id = line.split(':')[0].split(' ')[-1]\n",
    "    all_pulls = line.split(':')[1]\n",
    "    for pull in all_pulls.split(';'):\n",
    "        cubes = pull.split(',')\n",
    "        for cube in cubes:\n",
    "            cube_val = cube.split(' ')[1]\n",
    "            cube_color = cube.split(' ')[2]\n",
    "            if int(cube_val) > min_real_game[cube_color]:\n",
    "                min_real_game[cube_color] = int(cube_val)\n",
    "    sub_ans = 1 \n",
    "    for cube_col in min_real_game:\n",
    "        sub_ans *= min_real_game[cube_col]\n",
    "    ans += sub_ans\n",
    "        \n",
    "\n",
    "print(ans)\n",
    "    \n",
    "    # chk += 1 \n",
    "    # if chk >= 1:\n",
    "\n",
    "    #     break"
   ]
  },
  {
   "cell_type": "code",
   "execution_count": 41,
   "metadata": {},
   "outputs": [
    {
     "data": {
      "text/plain": [
       "300"
      ]
     },
     "execution_count": 41,
     "metadata": {},
     "output_type": "execute_result"
    }
   ],
   "source": [
    "max(35,300)"
   ]
  },
  {
   "cell_type": "code",
   "execution_count": null,
   "metadata": {},
   "outputs": [],
   "source": []
  }
 ],
 "metadata": {
  "kernelspec": {
   "display_name": "Python 3",
   "language": "python",
   "name": "python3"
  },
  "language_info": {
   "codemirror_mode": {
    "name": "ipython",
    "version": 3
   },
   "file_extension": ".py",
   "mimetype": "text/x-python",
   "name": "python",
   "nbconvert_exporter": "python",
   "pygments_lexer": "ipython3",
   "version": "3.8.2"
  }
 },
 "nbformat": 4,
 "nbformat_minor": 2
}
