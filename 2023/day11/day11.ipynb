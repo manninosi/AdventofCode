{
 "cells": [
  {
   "cell_type": "code",
   "execution_count": 1,
   "metadata": {},
   "outputs": [],
   "source": [
    "import numpy as np"
   ]
  },
  {
   "cell_type": "code",
   "execution_count": null,
   "metadata": {},
   "outputs": [],
   "source": [
    "#OLD WAY OF DOING IT\n",
    "#GOOD FUNCTION TO GET L1 OR L2 NORM FOR ALL INDICES IN MATRIX\n",
    "def distmat_indices_v2(a, indices):\n",
    "    indices = np.atleast_2d(indices)\n",
    "    i,j = np.indices(a.shape, sparse=True)\n",
    "    #RETURN L2 NORM\n",
    "    # return np.sqrt(((i-indices[:,0])[...,None])**2 + (j-indices[:,1,None])**2).min(1)\n",
    "    #RETURN L1 NORM WHAT WE WANT FOR AoC\n",
    "    return (np.abs(i-indices[:,0])[...,None]+ np.abs(j-indices[:,1,None])).min(1)"
   ]
  },
  {
   "cell_type": "code",
   "execution_count": 3,
   "metadata": {},
   "outputs": [
    {
     "name": "stdout",
     "output_type": "stream",
     "text": [
      "742305960572\n"
     ]
    }
   ],
   "source": [
    "fn = 'day11.txt'\n",
    "\n",
    "with open(fn) as f:\n",
    "    star_map_raw = f.readlines()\n",
    "\n",
    "star_map_raw = [list(row.strip('\\n')) for row in star_map_raw]\n",
    "star_2d_arr = np.array(star_map_raw, ndmin=2)\n",
    "\n",
    "#lists to store idx for row's to be expanded\n",
    "galaxy_idx = np.argwhere(star_2d_arr == '#') #Get all galaxy indices \n",
    "galaxy_idx_copy = np.copy(galaxy_idx)#Need copy otherwise might push galaxies into growing larger\n",
    "\n",
    "m = int(1e6)-1\n",
    "\n",
    "#Go through rows\n",
    "for i,row in enumerate(star_2d_arr):\n",
    "    if np.all(row == '.'):\n",
    "        galaxy_idx[:,0][galaxy_idx_copy[:,0]>i] += m #adding values\n",
    "\n",
    "#Go through columns\n",
    "for i,col in enumerate(star_2d_arr.T):\n",
    "    if np.all(col == '.'):\n",
    "        galaxy_idx[:,1][galaxy_idx_copy[:,1]>i] += m #Adding values\n",
    "\n",
    "def get_L1_norm(arr):\n",
    "    #Get L1 norm compared to just 1st indice\n",
    "    return(np.abs(arr - arr[0]))\n",
    "\n",
    "#Getting shortest distance (L1 NORM) for each pair of indices    \n",
    "galaxy_hold = galaxy_idx[:] #Need copy to not dupicate pairs\n",
    "ans_arr = []\n",
    "for j in galaxy_idx:\n",
    "    ans_arr.append(get_L1_norm(galaxy_hold)) \n",
    "    galaxy_hold = np.delete(galaxy_hold, 0, axis=0)\n",
    "\n",
    "#ans arr will have varied length indicies \n",
    "ans = 0\n",
    "for i in ans_arr:\n",
    "    ans += np.sum(i)\n",
    "print(ans)"
   ]
  },
  {
   "cell_type": "code",
   "execution_count": null,
   "metadata": {},
   "outputs": [],
   "source": [
    "galaxy_hold = galaxy_idx[:]\n",
    "print(galaxy_hold)\n",
    "galaxy_hold = np.delete(galaxy_hold, 0, axis=0)\n",
    "galaxy_hold"
   ]
  },
  {
   "cell_type": "code",
   "execution_count": 1,
   "metadata": {},
   "outputs": [
    {
     "data": {
      "text/plain": [
       "0"
      ]
     },
     "execution_count": 1,
     "metadata": {},
     "output_type": "execute_result"
    }
   ],
   "source": [
    "len('')"
   ]
  },
  {
   "cell_type": "code",
   "execution_count": 6,
   "metadata": {},
   "outputs": [
    {
     "name": "stdout",
     "output_type": "stream",
     "text": [
      "0 0 1\n",
      "0 1 2\n",
      "0 2 3\n",
      "1 0 4\n",
      "1 1 5\n",
      "1 2 6\n",
      "2 0 7\n",
      "2 1 8\n",
      "2 2 9\n"
     ]
    },
    {
     "ename": "",
     "evalue": "",
     "output_type": "error",
     "traceback": [
      "\u001b[1;31mThe Kernel crashed while executing code in the the current cell or a previous cell. Please review the code in the cell(s) to identify a possible cause of the failure. Click <a href='https://aka.ms/vscodeJupyterKernelCrash'>here</a> for more info. View Jupyter <a href='command:jupyter.viewOutput'>log</a> for further details."
     ]
    }
   ],
   "source": [
    "import numpy as np\n",
    "A = np.array([[1,2,3],[4,5,6],[7,8,9]])\n",
    "for (i,j), values in np.ndenumerate(A):\n",
    "    print(i,j, values)  # operate here"
   ]
  },
  {
   "cell_type": "code",
   "execution_count": null,
   "metadata": {},
   "outputs": [],
   "source": []
  }
 ],
 "metadata": {
  "kernelspec": {
   "display_name": "Python 3",
   "language": "python",
   "name": "python3"
  },
  "language_info": {
   "codemirror_mode": {
    "name": "ipython",
    "version": 3
   },
   "file_extension": ".py",
   "mimetype": "text/x-python",
   "name": "python",
   "nbconvert_exporter": "python",
   "pygments_lexer": "ipython3",
   "version": "3.8.2"
  }
 },
 "nbformat": 4,
 "nbformat_minor": 2
}
