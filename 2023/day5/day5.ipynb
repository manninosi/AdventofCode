{
 "cells": [
  {
   "cell_type": "code",
   "execution_count": 44,
   "metadata": {},
   "outputs": [],
   "source": [
    "import numpy as np\n",
    "from collections import defaultdict"
   ]
  },
  {
   "cell_type": "code",
   "execution_count": 50,
   "metadata": {},
   "outputs": [
    {
     "name": "stdout",
     "output_type": "stream",
     "text": [
      "[79, 14, 55, 13]\n",
      "0\n",
      "2\n",
      "[79, 92, 55, 67]\n",
      "60\n"
     ]
    }
   ],
   "source": [
    "fn = 'day5ex.txt'\n",
    "data = open(fn).read().strip()\n",
    "\n",
    "\"\"\" \n",
    "Maps Are\n",
    "Destination Source Range\n",
    "\n",
    "Each map infers the \"source\" value for the nxt map\n",
    "\"\"\"\n",
    "\n",
    "# map_key = defaultdict(int)\n",
    "# next_map = defaultdict(int)\n",
    "parts = data.split('\\n\\n')\n",
    "seed, *others = parts\n",
    "\n",
    "# seed = seed.split(':')[1].split()\n",
    "seed_old = [int(x) for x in seed.split(':')[1].split()]\n",
    "seed_rng = []\n",
    "print(seed_old)\n",
    "for seed_idx in np.arange(len(seed_old),step=2):\n",
    "    print(seed_idx)\n",
    "    seed_rng.append(seed_old[seed_idx]) \n",
    "    seed_rng.append(seed_old[seed_idx]+seed_old[seed_idx+1]-1) \n",
    "seed = seed_rng\n",
    "print(seed)\n",
    "def f(x,o):\n",
    "    for line in o:\n",
    "        d,s,r = [int(x) for x in line.split()]\n",
    "        if s <= x<s+r:\n",
    "            return x+d-s\n",
    "    return x\n",
    "\n",
    "S =  []\n",
    "for s in seed:\n",
    "    s = int(s)\n",
    "    for o in others:\n",
    "        O = o.split('\\n')\n",
    "        s = f(s, O[1:])\n",
    "    S.append(s)\n",
    "print(min(S))"
   ]
  },
  {
   "cell_type": "code",
   "execution_count": null,
   "metadata": {},
   "outputs": [],
   "source": [
    "x = {1:3, 3:6}\n",
    "y = dict(x)\n",
    "x[5] = 2345\n",
    "print(x)\n",
    "print(y)"
   ]
  },
  {
   "cell_type": "code",
   "execution_count": 11,
   "metadata": {},
   "outputs": [
    {
     "data": {
      "text/plain": [
       "array([ 1,  6,  3, 30, 21,  5])"
      ]
     },
     "execution_count": 11,
     "metadata": {},
     "output_type": "execute_result"
    }
   ],
   "source": [
    "import numpy as np\n",
    "x = np.asarray([1,6,3, 26,21,5])\n",
    "y = np.asarray([26,12,456, 34])\n",
    "mask = list(set(x) & set(y))\n",
    "x[x == mask[0]] += 4\n",
    "x"
   ]
  },
  {
   "cell_type": "code",
   "execution_count": 40,
   "metadata": {},
   "outputs": [
    {
     "data": {
      "text/plain": [
       "81"
      ]
     },
     "execution_count": 40,
     "metadata": {},
     "output_type": "execute_result"
    }
   ],
   "source": [
    "79+52-50"
   ]
  },
  {
   "cell_type": "code",
   "execution_count": 51,
   "metadata": {},
   "outputs": [
    {
     "data": {
      "text/plain": [
       "[1, 2, 5, 3, 5, 6]"
      ]
     },
     "execution_count": 51,
     "metadata": {},
     "output_type": "execute_result"
    }
   ],
   "source": [
    "x = [1,2,5]\n",
    "y = [3,5,6]\n",
    "x+y"
   ]
  },
  {
   "cell_type": "code",
   "execution_count": null,
   "metadata": {},
   "outputs": [],
   "source": []
  }
 ],
 "metadata": {
  "kernelspec": {
   "display_name": "Python 3",
   "language": "python",
   "name": "python3"
  },
  "language_info": {
   "codemirror_mode": {
    "name": "ipython",
    "version": 3
   },
   "file_extension": ".py",
   "mimetype": "text/x-python",
   "name": "python",
   "nbconvert_exporter": "python",
   "pygments_lexer": "ipython3",
   "version": "3.8.2"
  }
 },
 "nbformat": 4,
 "nbformat_minor": 2
}
