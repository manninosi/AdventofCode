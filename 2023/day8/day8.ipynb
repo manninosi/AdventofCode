{
 "cells": [
  {
   "cell_type": "code",
   "execution_count": null,
   "metadata": {},
   "outputs": [],
   "source": [
    "import numpy as np"
   ]
  },
  {
   "cell_type": "code",
   "execution_count": 103,
   "metadata": {},
   "outputs": [
    {
     "name": "stdout",
     "output_type": "stream",
     "text": [
      "ZZZ\n",
      "BRZ\n",
      "LRZ\n",
      "BKZ\n",
      "QSZ\n",
      "MCZ\n",
      "[12737, 18157, 14363, 15989, 11653, 21409]\n",
      "9064949303801\n"
     ]
    }
   ],
   "source": [
    "fn = 'day8.txt'\n",
    "\n",
    "data = open(fn).read().strip()\n",
    "\n",
    "directions = data.split('\\n')[0]\n",
    "lr_val = {'L': 0, 'R': 1}\n",
    "nodes = {}\n",
    "for i, node in enumerate(data.split('\\n')[2:]):\n",
    "    if i == 0:\n",
    "        start_node = node.split('=')[0].strip()\n",
    "    node_choices = node.split('=')[1].strip()\n",
    "    nodes[node.split('=')[0].strip()] = (node_choices[1:4], node_choices[6:9]) \n",
    "\n",
    "next_node = 'ZZZ' \n",
    "chk = 0\n",
    "dir_track = 0\n",
    "all_start_nodes = []\n",
    "for key in nodes:\n",
    "    # if nodes[key][0][-1] == 'Z' or nodes[key][1][-1] == 'Z':\n",
    "    if 'Z' in key:\n",
    "        # print(nodes[key])\n",
    "\n",
    "        all_start_nodes.append(key)\n",
    "\n",
    "        \n",
    "def step_counts(next_node):\n",
    "    # while next_node != 'AAA':# and chk <=10000: #Part 11\n",
    "    node_chk = []\n",
    "    node_store = []\n",
    "    double_nodes = []\n",
    "    chk_store = 0\n",
    "    chk = 0\n",
    "    while next_node[-1] != 'A':\n",
    "        # print('='*30)\n",
    "        # print(directions)\n",
    "        # print(dir_track)\n",
    "        # print(lr_val[directions[dir_track]])\n",
    "        # print(next_node)\n",
    "        # next_node = nodes[next_node][lr_val[directions[dir_track]]]\n",
    "        for key in nodes:\n",
    "            if next_node in nodes[key]:\n",
    "                node_chk.append(key)\n",
    "                double_nodes.append(key)\n",
    "                \n",
    "        \n",
    "        #Assume only two nodes exist\n",
    "        assert len(node_chk) <= 3, f\"Nodes:{node_chk}\"\n",
    "        if len(node_chk) == 1:\n",
    "            next_node = node_chk[0] \n",
    "            node_chk = []\n",
    "        else:\n",
    "            if len(node_store) == 0: #No node stored yet\n",
    "                node_store = node_chk\n",
    "                chk_store = chk\n",
    "            if next_node in double_nodes:\n",
    "                next_node = node_store[1]\n",
    "                node_store = []\n",
    "                double_nodes = []\n",
    "                chk = chk_store #Return to previous count\n",
    "            else:\n",
    "                next_node = node_chk[0] #Reset store\n",
    "            node_chk = []\n",
    "        chk+=1\n",
    "    gcd_val=np.gcd(chk, len(directions))\n",
    "    ans = int((chk * len(directions))/gcd_val )\n",
    "    return(ans)\n",
    "\n",
    "all_vals = []\n",
    "for start_node in all_start_nodes:\n",
    "    print(start_node)\n",
    "    all_vals.append(step_counts(start_node))\n",
    "print(all_vals) \n",
    "# print(np.prod(all_vals, dtype=np.int64))\n",
    "from fractions import gcd\n",
    "from functools import reduce\n",
    "def find_gcd(list):\n",
    "    x = reduce(gcd, list)\n",
    "    return x\n",
    "# print(find_gcd(all_vals))\n",
    "\n",
    "print(np.lcm.reduce(all_vals, dtype=np.int64))"
   ]
  },
  {
   "cell_type": "code",
   "execution_count": 41,
   "metadata": {},
   "outputs": [
    {
     "data": {
      "text/plain": [
       "1"
      ]
     },
     "execution_count": 41,
     "metadata": {},
     "output_type": "execute_result"
    }
   ],
   "source": [
    "# 2171253084 --too low\n",
    "# 13027518504 -- too low\n",
    "# 588409585764 -- Not right\n",
    "# 9064949303801 -- Right Answer\n",
    "\n",
    "\n",
    "# 4592093402213717632"
   ]
  },
  {
   "cell_type": "code",
   "execution_count": 98,
   "metadata": {},
   "outputs": [
    {
     "data": {
      "text/plain": [
       "'C'"
      ]
     },
     "execution_count": 98,
     "metadata": {},
     "output_type": "execute_result"
    }
   ],
   "source": [
    "x = ('ABC', 'TDB')\n",
    "x[0][-1]"
   ]
  },
  {
   "cell_type": "code",
   "execution_count": 69,
   "metadata": {},
   "outputs": [
    {
     "name": "stdout",
     "output_type": "stream",
     "text": [
      "2\n"
     ]
    }
   ],
   "source": [
    "oidx = int(bin(1+1), 2)\n",
    "print(idx)"
   ]
  },
  {
   "cell_type": "code",
   "execution_count": 63,
   "metadata": {},
   "outputs": [
    {
     "ename": "TypeError",
     "evalue": "can only concatenate str (not \"int\") to str",
     "output_type": "error",
     "traceback": [
      "\u001b[1;31m---------------------------------------------------------------------------\u001b[0m",
      "\u001b[1;31mTypeError\u001b[0m                                 Traceback (most recent call last)",
      "\u001b[1;32me:\\OneDrive\\AdventCode\\2023\\day8\\day8.ipynb Cell 6\u001b[0m line \u001b[0;36m1\n\u001b[1;32m----> <a href='vscode-notebook-cell:/e%3A/OneDrive/AdventCode/2023/day8/day8.ipynb#W5sZmlsZQ%3D%3D?line=0'>1</a>\u001b[0m idx\u001b[39m+\u001b[39;49m\u001b[39m1\u001b[39;49m\n",
      "\u001b[1;31mTypeError\u001b[0m: can only concatenate str (not \"int\") to str"
     ]
    }
   ],
   "source": []
  },
  {
   "cell_type": "code",
   "execution_count": null,
   "metadata": {},
   "outputs": [],
   "source": []
  }
 ],
 "metadata": {
  "kernelspec": {
   "display_name": "Python 3",
   "language": "python",
   "name": "python3"
  },
  "language_info": {
   "codemirror_mode": {
    "name": "ipython",
    "version": 3
   },
   "file_extension": ".py",
   "mimetype": "text/x-python",
   "name": "python",
   "nbconvert_exporter": "python",
   "pygments_lexer": "ipython3",
   "version": "3.8.2"
  }
 },
 "nbformat": 4,
 "nbformat_minor": 2
}
