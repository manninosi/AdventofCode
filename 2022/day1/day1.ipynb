{
 "cells": [
  {
   "cell_type": "code",
   "execution_count": 19,
   "metadata": {},
   "outputs": [],
   "source": [
    "import numpy as np"
   ]
  },
  {
   "cell_type": "code",
   "execution_count": 49,
   "metadata": {},
   "outputs": [
    {
     "name": "stdout",
     "output_type": "stream",
     "text": [
      "==========\n",
      "47448\n",
      "0 0\n",
      "[47448     0     0]\n",
      "==========\n",
      "45090\n",
      "1 0\n",
      "[47448 45090     0]\n",
      "==========\n",
      "59018\n",
      "0 47448\n",
      "[59018 47448 45090]\n",
      "==========\n",
      "49618\n",
      "1 47448\n",
      "[59018 49618 47448]\n",
      "==========\n",
      "63645\n",
      "0 59018\n",
      "[63645 59018 49618]\n",
      "==========\n",
      "58355\n",
      "2 49618\n",
      "[63645 59018 58355]\n",
      "==========\n",
      "63322\n",
      "1 59018\n",
      "[63645 63322 59018]\n",
      "==========\n",
      "59112\n",
      "2 59018\n",
      "[63645 63322 59112]\n",
      "==========\n",
      "61732\n",
      "2 59112\n",
      "[63645 63322 61732]\n",
      "==========\n",
      "63592\n",
      "1 63322\n",
      "[63645 63592 63322]\n",
      "==========\n",
      "63967\n",
      "0 63645\n",
      "[63967 63645 63592]\n",
      "==========\n",
      "67023\n",
      "0 63967\n",
      "[67023 63967 63645]\n",
      "==========\n",
      "64098\n",
      "1 63967\n",
      "[67023 64098 63967]\n",
      "==========\n",
      "68923\n",
      "0 67023\n",
      "[68923 67023 64098]\n",
      "68923\n",
      "[68923 67023 64098]\n",
      "200044\n"
     ]
    }
   ],
   "source": [
    "fn = 'day1.txt'\n",
    "D = open(fn).read().strip()\n",
    "\n",
    "store_max = 0\n",
    "store = 0\n",
    "store_max_arr = np.array([0,0,0])\n",
    "for line in D.split('\\n'):\n",
    "    # print(\"=\"*8)\n",
    "    # print(line)\n",
    "    # print(store)\n",
    "    # print(store_max_arr)\n",
    "    # if(store > 63967):\n",
    "    #     print(\"HEY\")\n",
    "    #     print(store)\n",
    "    #     break\n",
    "    if line == '':\n",
    "        if store > store_max:\n",
    "            store_max = store\n",
    "        for i, val in enumerate(store_max_arr):\n",
    "            if store > val:\n",
    "                print(\"=\"*10)\n",
    "                print(store)\n",
    "                print(i, val)\n",
    "                if i == 0:\n",
    "                    store_max_arr[2] = store_max_arr[1] \n",
    "                    store_max_arr[1] = store_max_arr[0] \n",
    "                elif i == 1: \n",
    "                    store_max_arr[2] = store_max_arr[1] \n",
    "                store_max_arr[i] = store \n",
    "                print(store_max_arr)\n",
    "                store = 0\n",
    "                break\n",
    "            \n",
    "        store = 0\n",
    "    else:\n",
    "        store += int(line)\n",
    "\n",
    "# if store > store_max:\n",
    "#     store_max = store\n",
    "\n",
    "print(store_max)\n",
    "print(store_max_arr)\n",
    "print(np.sum(store_max_arr))"
   ]
  },
  {
   "cell_type": "code",
   "execution_count": 45,
   "metadata": {},
   "outputs": [
    {
     "name": "stdout",
     "output_type": "stream",
     "text": [
      "[68923 64098 63509]\n",
      "[64098 68923]\n"
     ]
    },
    {
     "data": {
      "text/plain": [
       "array([64098, 63509, 68923])"
      ]
     },
     "execution_count": 45,
     "metadata": {},
     "output_type": "execute_result"
    }
   ],
   "source": [
    "print(np.roll(store_max_arr, 0))\n",
    "print(np.roll(store_max_arr[0:2], 1))\n",
    "np.roll(store_max_arr, 2)"
   ]
  },
  {
   "cell_type": "code",
   "execution_count": null,
   "metadata": {},
   "outputs": [],
   "source": []
  }
 ],
 "metadata": {
  "kernelspec": {
   "display_name": "Python 3",
   "language": "python",
   "name": "python3"
  },
  "language_info": {
   "codemirror_mode": {
    "name": "ipython",
    "version": 3
   },
   "file_extension": ".py",
   "mimetype": "text/x-python",
   "name": "python",
   "nbconvert_exporter": "python",
   "pygments_lexer": "ipython3",
   "version": "3.8.2"
  }
 },
 "nbformat": 4,
 "nbformat_minor": 2
}
